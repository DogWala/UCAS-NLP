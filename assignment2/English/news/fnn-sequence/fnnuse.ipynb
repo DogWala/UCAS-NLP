{
 "cells": [
  {
   "cell_type": "code",
   "execution_count": 16,
   "metadata": {},
   "outputs": [],
   "source": [
    "import torch\n",
    "import torch.nn as nn\n",
    "import torch.nn.functional as F\n",
    "import numpy as np\n",
    "\n",
    "# train\n",
    "VOCAB_SIZE = 3000\n",
    "EMBEDDING_SIZE = 10\n",
    "BATCH_SIZE = 128\n",
    "EPOCH = 20\n",
    "WINDOW_SIZE = 1\n",
    "# display number\n",
    "DISNUM = 50\n",
    "\n",
    "name = 'fnn2-' + 'epo' + str(EPOCH) + 'ebd' + str(EMBEDDING_SIZE) + 'vcb' + str(VOCAB_SIZE) + 'win' + str(WINDOW_SIZE)\n",
    "\n",
    "class FNN(nn.Module):\n",
    "    def __init__(self, vocab_size, embedding_size, hidden_size):\n",
    "        super(FNN, self).__init__()\n",
    "        self.vocab_size = vocab_size\n",
    "        self.embedding_size = embedding_size\n",
    "        self.hidden_size = hidden_size\n",
    "        self.embedding = nn.Embedding(vocab_size, embedding_size)\n",
    "        self.fc1 = nn.Linear(embedding_size, hidden_size)\n",
    "        self.fc2 = nn.Linear(hidden_size, vocab_size)\n",
    "    def forward(self, inputs):\n",
    "        embedding = self.embedding(inputs)\n",
    "        out = F.relu(self.fc1(embedding))\n",
    "        out = self.fc2(out)\n",
    "        return F.log_softmax(out, dim=-1)\n",
    "\n",
    "model = FNN(VOCAB_SIZE+1, EMBEDDING_SIZE, 128)\n",
    "model.load_state_dict(torch.load(name + '.pth'))\n",
    "word_vectors = np.array(model.embedding.weight.data.cpu())"
   ]
  },
  {
   "cell_type": "code",
   "execution_count": 17,
   "metadata": {},
   "outputs": [],
   "source": [
    "# read corpus from file\n",
    "corpus = []\n",
    "with open('news2-cleaned.txt', 'r', encoding='utf-8') as f:\n",
    "    for line in f:\n",
    "        corpus.append(line.strip().split(' '))\n",
    "# build word_to_ix\n",
    "word_to_ix = {}\n",
    "for sentence in corpus:\n",
    "    for word in sentence:\n",
    "        if word not in word_to_ix:\n",
    "            word_to_ix[word] = len(word_to_ix)\n",
    "word_to_ix = {k: v if v < VOCAB_SIZE else VOCAB_SIZE for k, v in word_to_ix.items()}\n",
    "word_to_ix['<UNK>'] = VOCAB_SIZE"
   ]
  },
  {
   "cell_type": "code",
   "execution_count": 21,
   "metadata": {},
   "outputs": [
    {
     "name": "stdout",
     "output_type": "stream",
     "text": [
      "Top 10 similar words to month:\n",
      "rappers\n",
      "democrat\n",
      "afternoon\n",
      "danger\n",
      "themselves\n",
      "knowledge\n",
      "condition\n",
      "phone\n",
      "developer\n",
      "honig\n"
     ]
    }
   ],
   "source": [
    "# get similar words using cosine similarity\n",
    "def get_similar_words(word, n=10):\n",
    "    if word not in word_to_ix:\n",
    "        print('Word not in vocabulary')\n",
    "        return\n",
    "    word_vector = word_vectors[word_to_ix[word]]\n",
    "    similarities = np.dot(word_vectors, word_vector) / (np.linalg.norm(word_vectors, axis=1) * np.linalg.norm(word_vector))\n",
    "    sorted_indices = np.argsort(similarities)[::-1][1:n+1]\n",
    "    print('Top 10 similar words to ' + word + ':')\n",
    "    for i in sorted_indices:\n",
    "        similar_word = list(word_to_ix.keys())[list(word_to_ix.values()).index(i)]\n",
    "        similarity = similarities[i]\n",
    "        print(similar_word)\n",
    "\n",
    "get_similar_words(input('Enter a word: '))"
   ]
  }
 ],
 "metadata": {
  "kernelspec": {
   "display_name": "nlp2",
   "language": "python",
   "name": "python3"
  },
  "language_info": {
   "codemirror_mode": {
    "name": "ipython",
    "version": 3
   },
   "file_extension": ".py",
   "mimetype": "text/x-python",
   "name": "python",
   "nbconvert_exporter": "python",
   "pygments_lexer": "ipython3",
   "version": "3.10.9"
  },
  "orig_nbformat": 4
 },
 "nbformat": 4,
 "nbformat_minor": 2
}
