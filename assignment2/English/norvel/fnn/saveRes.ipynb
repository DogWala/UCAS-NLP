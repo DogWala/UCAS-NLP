{
 "cells": [
  {
   "cell_type": "code",
   "execution_count": 5,
   "metadata": {},
   "outputs": [],
   "source": [
    "import pandas as pd\n",
    "import torch\n",
    "import torch.nn as nn\n",
    "import torch.nn.functional as F\n",
    "import numpy as np"
   ]
  },
  {
   "cell_type": "code",
   "execution_count": 6,
   "metadata": {},
   "outputs": [],
   "source": [
    "# define parameters\n",
    "VOCAB_SIZE = 3000\n",
    "EMBEDDING_SIZE = 10\n",
    "BATCH_SIZE = 8192\n",
    "EPOCH = 50\n",
    "WINDOW_SIZE = 1\n",
    "# name\n",
    "name = 'fnn-' + 'epo' + str(EPOCH) + 'ebd' + str(EMBEDDING_SIZE) + 'vcb' + str(VOCAB_SIZE) + 'win' + str(WINDOW_SIZE)"
   ]
  },
  {
   "cell_type": "code",
   "execution_count": 7,
   "metadata": {},
   "outputs": [],
   "source": [
    "# deifine model\n",
    "class FNN(nn.Module):\n",
    "    def __init__(self, vocab_size, embedding_size, hidden_size):\n",
    "        super(FNN, self).__init__()\n",
    "        self.vocab_size = vocab_size\n",
    "        self.embedding_size = embedding_size\n",
    "        self.hidden_size = hidden_size\n",
    "        self.embedding = nn.Embedding(vocab_size, embedding_size)\n",
    "        self.fc1 = nn.Linear(embedding_size, hidden_size)\n",
    "        self.fc2 = nn.Linear(hidden_size, vocab_size)\n",
    "    def forward(self, inputs):\n",
    "        embedding = self.embedding(inputs)\n",
    "        out = F.relu(self.fc1(embedding))\n",
    "        out = self.fc2(out)\n",
    "        return F.log_softmax(out, dim=-1)"
   ]
  },
  {
   "cell_type": "code",
   "execution_count": 8,
   "metadata": {},
   "outputs": [],
   "source": [
    "# read model\n",
    "model = FNN(VOCAB_SIZE+1, EMBEDDING_SIZE, 128)\n",
    "model.load_state_dict(torch.load(name + '.pth'))\n",
    "word_vectors = np.array(model.embedding.weight.data.cpu())"
   ]
  },
  {
   "cell_type": "code",
   "execution_count": 11,
   "metadata": {},
   "outputs": [],
   "source": [
    "# read corpus from file\n",
    "corpus = []\n",
    "with open('norvel-cleaned.txt', 'r', encoding='utf-8') as f:\n",
    "    for line in f:\n",
    "        corpus.append(line.strip().split(' '))\n",
    "\n",
    "# build word_to_ix\n",
    "word_to_ix = {}\n",
    "for sentence in corpus:\n",
    "    for word in sentence:\n",
    "        if word not in word_to_ix:\n",
    "            word_to_ix[word] = len(word_to_ix)\n",
    "word_to_ix = {k: v if v < VOCAB_SIZE else VOCAB_SIZE for k, v in word_to_ix.items()}\n",
    "word_to_ix['<UNK>'] = VOCAB_SIZE"
   ]
  },
  {
   "cell_type": "code",
   "execution_count": 13,
   "metadata": {},
   "outputs": [],
   "source": [
    "word_list = list(word_to_ix.keys())[::10][:20]\n",
    "# get similar words using cosine similarity\n",
    "df = pd.DataFrame()\n",
    "for word in word_list:\n",
    "    word_vector = word_vectors[word_to_ix[word]]\n",
    "    similarities = np.dot(word_vectors, word_vector) / (np.linalg.norm(word_vectors, axis=1) * np.linalg.norm(word_vector))\n",
    "    sorted_indices = np.argsort(similarities)[::-1][1:11]\n",
    "    similar_words = []\n",
    "    similarity_scores = []\n",
    "    for i in sorted_indices:\n",
    "        similar_word = list(word_to_ix.keys())[list(word_to_ix.values()).index(i)]\n",
    "        similarity = round(similarities[i], 4)\n",
    "        similar_words.append(similar_word)\n",
    "        similarity_scores.append(similarity)\n",
    "    df[f'{word}'] = similar_words\n",
    "    df[f'sim2{word}'] = similarity_scores\n",
    "df.to_excel(f'{name}.xlsx', index=False)"
   ]
  }
 ],
 "metadata": {
  "kernelspec": {
   "display_name": "nlp2",
   "language": "python",
   "name": "python3"
  },
  "language_info": {
   "codemirror_mode": {
    "name": "ipython",
    "version": 3
   },
   "file_extension": ".py",
   "mimetype": "text/x-python",
   "name": "python",
   "nbconvert_exporter": "python",
   "pygments_lexer": "ipython3",
   "version": "3.10.9"
  },
  "orig_nbformat": 4
 },
 "nbformat": 4,
 "nbformat_minor": 2
}
